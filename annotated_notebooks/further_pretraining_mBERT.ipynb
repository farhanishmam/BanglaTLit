{
  "metadata": {
    "kernelspec": {
      "language": "python",
      "display_name": "Python 3",
      "name": "python3"
    },
    "language_info": {
      "name": "python",
      "version": "3.10.13",
      "mimetype": "text/x-python",
      "codemirror_mode": {
        "name": "ipython",
        "version": 3
      },
      "pygments_lexer": "ipython3",
      "nbconvert_exporter": "python",
      "file_extension": ".py"
    },
    "kaggle": {
      "accelerator": "none",
      "dataSources": [
        {
          "sourceId": 8564151,
          "sourceType": "datasetVersion",
          "datasetId": 5119843
        }
      ],
      "dockerImageVersionId": 30698,
      "isInternetEnabled": true,
      "language": "python",
      "sourceType": "notebook",
      "isGpuEnabled": false
    },
    "colab": {
      "provenance": []
    }
  },
  "nbformat_minor": 0,
  "nbformat": 4,
  "cells": [
    {
      "cell_type": "markdown",
      "source": [
        "# Further Pre-training Models on Transliterated Bangla\n",
        "\n",
        "This sample notebook further pre-trains mBERT but can be replaced by any pre-trained language model from HuggingFace. Please modify the `model_name` and `tokenizer` to further pre-train a different model."
      ],
      "metadata": {
        "id": "wOejPMckjCRU"
      }
    },
    {
      "cell_type": "markdown",
      "source": [
        "## Import Necessary Libraries"
      ],
      "metadata": {
        "id": "zlYD5kUIiZJd"
      }
    },
    {
      "cell_type": "code",
      "source": [
        "import torch\n",
        "import pandas as pd\n",
        "\n",
        "import warnings\n",
        "warnings.filterwarnings('ignore')\n",
        "\n",
        "from transformers import (AutoModel,AutoModelForMaskedLM,\n",
        "                          AutoTokenizer, LineByLineTextDataset,\n",
        "                          DataCollatorForLanguageModeling,\n",
        "                          Trainer, TrainingArguments)"
      ],
      "metadata": {
        "id": "pDYlFaAcemaF"
      },
      "execution_count": 1,
      "outputs": []
    },
    {
      "cell_type": "markdown",
      "source": [
        "## Load models and tokenizers from HuggingFace"
      ],
      "metadata": {
        "id": "eBUhnhxXieU0"
      }
    },
    {
      "cell_type": "code",
      "source": [
        "model_name = 'google-bert/bert-base-multilingual-cased'\n",
        "model = AutoModelForMaskedLM.from_pretrained(model_name)\n",
        "tokenizer = AutoTokenizer.from_pretrained('google-bert/bert-base-multilingual-cased')\n",
        "tokenizer.save_pretrained('./mbert');"
      ],
      "metadata": {
        "id": "Bd89nJMBhzsN"
      },
      "execution_count": null,
      "outputs": []
    },
    {
      "cell_type": "markdown",
      "source": [
        "## Load the Dataset"
      ],
      "metadata": {
        "id": "lT-liVJXikPF"
      }
    },
    {
      "cell_type": "code",
      "source": [
        "train_dataset = LineByLineTextDataset(\n",
        "    tokenizer=tokenizer,\n",
        "    file_path=\"/kaggle/input/banglish/banglish.txt\", #mention train text file here\n",
        "    block_size=256)\n",
        "\n",
        "valid_dataset = LineByLineTextDataset(\n",
        "    tokenizer=tokenizer,\n",
        "    file_path=\"/kaggle/input/banglish/banglish.txt\", #mention valid text file here\n",
        "    block_size=256)\n",
        "\n",
        "data_collator = DataCollatorForLanguageModeling(\n",
        "    tokenizer=tokenizer, mlm=True, mlm_probability=0.15)"
      ],
      "metadata": {
        "id": "JTptuM6Gh1m_"
      },
      "execution_count": null,
      "outputs": []
    },
    {
      "cell_type": "markdown",
      "source": [
        "## Configure the Trainer"
      ],
      "metadata": {
        "id": "IJKjeQVhinUy"
      }
    },
    {
      "cell_type": "code",
      "source": [
        "training_args = TrainingArguments(\n",
        "    output_dir=\"./mBERTcheckPoint\", #select model path for checkpoint\n",
        "    overwrite_output_dir=True,\n",
        "    num_train_epochs=5,\n",
        "    per_device_train_batch_size=16,\n",
        "    per_device_eval_batch_size=16,\n",
        "    evaluation_strategy= 'no',\n",
        "    do_eval=False,\n",
        "    save_total_limit=1,\n",
        "    greater_is_better=False,\n",
        "    load_best_model_at_end =True,\n",
        "    prediction_loss_only=True,\n",
        "    report_to = \"none\",\n",
        "    )\n",
        "\n",
        "trainer = Trainer(\n",
        "    model=model,\n",
        "    args=training_args,\n",
        "    data_collator=data_collator,\n",
        "    train_dataset=train_dataset)"
      ],
      "metadata": {
        "id": "83ZOTYKOixfl"
      },
      "execution_count": null,
      "outputs": []
    },
    {
      "cell_type": "markdown",
      "source": [
        "## Start Further Pre-training"
      ],
      "metadata": {
        "id": "oomczv5wiyM0"
      }
    },
    {
      "cell_type": "code",
      "source": [
        "trainer.train()\n",
        "trainer.save_model(f'./mbert')"
      ],
      "metadata": {
        "id": "VhYE8sMziq7m"
      },
      "execution_count": null,
      "outputs": []
    }
  ]
}